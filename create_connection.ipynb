{
 "cells": [
  {
   "cell_type": "code",
   "execution_count": 57,
   "metadata": {},
   "outputs": [],
   "source": [
    "import mysql.connector\n"
   ]
  },
  {
   "cell_type": "code",
   "execution_count": 43,
   "metadata": {},
   "outputs": [],
   "source": [
    "con = mysql.connector.connect(host='localhost',database='ecommerce',user='admin',password='admin')"
   ]
  },
  {
   "cell_type": "code",
   "execution_count": 24,
   "metadata": {},
   "outputs": [
    {
     "name": "stdout",
     "output_type": "stream",
     "text": [
      "conectado ao servidor MySQL versão: 8.0.32-0ubuntu0.22.04.2\n",
      "conectado ao banco de dados: ('ecommerce',)\n"
     ]
    }
   ],
   "source": [
    "if con.is_connected():\n",
    "    db_info = con.get_server_info()\n",
    "    print('conectado ao servidor MySQL versão:', db_info)\n",
    "    cursor = con.cursor()\n",
    "    cursor.execute('select database();')\n",
    "    resultado = cursor.fetchone()\n",
    "    print('conectado ao banco de dados:',resultado)\n"
   ]
  },
  {
   "cell_type": "code",
   "execution_count": 7,
   "metadata": {},
   "outputs": [
    {
     "ename": "NameError",
     "evalue": "name 'cursor' is not defined",
     "output_type": "error",
     "traceback": [
      "\u001b[0;31m---------------------------------------------------------------------------\u001b[0m",
      "\u001b[0;31mNameError\u001b[0m                                 Traceback (most recent call last)",
      "\u001b[1;32m/home/victor/ufpel/PBD/trabalho/create_connection.ipynb Cell 4\u001b[0m in \u001b[0;36m<cell line: 1>\u001b[0;34m()\u001b[0m\n\u001b[1;32m      <a href='vscode-notebook-cell:/home/victor/ufpel/PBD/trabalho/create_connection.ipynb#W3sZmlsZQ%3D%3D?line=0'>1</a>\u001b[0m \u001b[39mif\u001b[39;00m con\u001b[39m.\u001b[39mis_connected():\n\u001b[0;32m----> <a href='vscode-notebook-cell:/home/victor/ufpel/PBD/trabalho/create_connection.ipynb#W3sZmlsZQ%3D%3D?line=1'>2</a>\u001b[0m     cursor\u001b[39m.\u001b[39mclose()\n\u001b[1;32m      <a href='vscode-notebook-cell:/home/victor/ufpel/PBD/trabalho/create_connection.ipynb#W3sZmlsZQ%3D%3D?line=2'>3</a>\u001b[0m     con\u001b[39m.\u001b[39mclose()\n\u001b[1;32m      <a href='vscode-notebook-cell:/home/victor/ufpel/PBD/trabalho/create_connection.ipynb#W3sZmlsZQ%3D%3D?line=3'>4</a>\u001b[0m     \u001b[39mprint\u001b[39m(\u001b[39m'\u001b[39m\u001b[39mconexão encerrada\u001b[39m\u001b[39m'\u001b[39m)\n",
      "\u001b[0;31mNameError\u001b[0m: name 'cursor' is not defined"
     ]
    }
   ],
   "source": [
    "\n",
    "if con.is_connected():\n",
    "    cursor.close()\n",
    "    con.close()\n",
    "    print('conexão encerrada')"
   ]
  },
  {
   "cell_type": "code",
   "execution_count": null,
   "metadata": {},
   "outputs": [],
   "source": [
    "def get_produto_por_id(produto):\n",
    "    con = mysql.connector.connect(host='localhost',database='ecommerce',user='admin',password='admin')\n",
    "    if con.is_connected():\n",
    "        cursor = con.cursor()\n",
    "        cursor.execute(\"\"\"select * from produtos where idprod = produto;\"\"\")\n",
    "        resultado = cursor.fetchone()\n",
    "        con.close()\n",
    "        return resultado\n",
    "    else: return 'erro de conexão'"
   ]
  },
  {
   "cell_type": "code",
   "execution_count": null,
   "metadata": {},
   "outputs": [],
   "source": [
    "def get_produto_por_id(produto):\n",
    "    con = mysql.connector.connect(host='localhost',database='ecommerce',user='admin',password='admin')\n",
    "    if con.is_connected():\n",
    "        cursor = con.cursor()\n",
    "        cursor.execute(\"\"\"select * from produtos where idprod = produto;\"\"\")\n",
    "        resultado = cursor.fetchone()\n",
    "        con.close()\n",
    "        return resultado\n",
    "    else: return 'erro de conexão'"
   ]
  },
  {
   "cell_type": "code",
   "execution_count": 32,
   "metadata": {},
   "outputs": [],
   "source": [
    "if con.is_connected():\n",
    "    cursor = con.cursor()\n",
    "    cursor.execute(\"\"\"\n",
    "        INSERT INTO usuarios (nome, cartao, email) VALUES ('João Silva', '1234567890123456', 'joao.silva@gmail.com');\n",
    "    \"\"\")\n",
    "    resultado = cursor.fetchall()\n"
   ]
  },
  {
   "cell_type": "code",
   "execution_count": 45,
   "metadata": {},
   "outputs": [],
   "source": [
    "if con.is_connected():\n",
    "    cursor = con.cursor()\n",
    "    cursor.execute(\"\"\"\n",
    "        drop table usuarios;\n",
    "    \"\"\")\n",
    "    resultado = cursor.fetchall()\n"
   ]
  },
  {
   "cell_type": "code",
   "execution_count": 42,
   "metadata": {},
   "outputs": [
    {
     "name": "stdout",
     "output_type": "stream",
     "text": [
      "1 record inserted.\n"
     ]
    }
   ],
   "source": [
    "if con.is_connected():\n",
    "    cursor = con.cursor()\n",
    "sql = \"INSERT INTO usuarios (nome, cartao, email) VALUES (%s, %s,%s)\"\n",
    "val =  ('João Siva', '1234567890123456', 'joao.silva@gmail.com')\n",
    "cursor.execute(sql, val)\n",
    "print(cursor.rowcount, \"record inserted.\")\n"
   ]
  },
  {
   "cell_type": "code",
   "execution_count": 49,
   "metadata": {},
   "outputs": [],
   "source": [
    "def insert_usuarios(nome, cartao, email):\n",
    "    con = mysql.connector.connect(host='localhost',database='ecommerce',user='admin',password='admin')\n",
    "    cursor = con.cursor()\n",
    "    sql = f\"\"\"BEGIN;\n",
    "                INSERT INTO carrinho(id) values(null);\n",
    "                INSERT INTO usuarios (nome, cartao, email,cod_carrinho) VALUES ('{nome}', {cartao}, '{email}', (SELECT max(id) FROM carrinho));\n",
    "            COMMIT;\n",
    "            \"\"\"\n",
    "    print(sql)\n",
    "    cursor.execute(sql)\n",
    "    cursor.close()\n",
    "    con.close()\n"
   ]
  },
  {
   "cell_type": "code",
   "execution_count": 26,
   "metadata": {},
   "outputs": [],
   "source": [
    "lista_usuarios= [{'nome':'João Silva','cartao':'1234567890123456','email':'joao.silva@gmail.com'}, \n",
    "        {'nome':'Maria Souza','cartao':'2345678901234567','email':'maria.souza@hotmail.com'},\n",
    "        {'nome':'Carlos Santos','cartao':'3456789012345678','email':'carlos.santos@yahoo.com'}]\n"
   ]
  },
  {
   "cell_type": "code",
   "execution_count": 54,
   "metadata": {},
   "outputs": [
    {
     "name": "stdout",
     "output_type": "stream",
     "text": [
      "BEGIN;\n",
      "                INSERT INTO carrinho(id) values(null);\n",
      "                INSERT INTO usuarios (nome, cartao, email,cod_carrinho) VALUES ('João Silva', 1234567890123456, 'joao.silva@gmail.com', (SELECT max(id) FROM carrinho));\n",
      "            COMMIT;\n",
      "            \n",
      "BEGIN;\n",
      "                INSERT INTO carrinho(id) values(null);\n",
      "                INSERT INTO usuarios (nome, cartao, email,cod_carrinho) VALUES ('Maria Souza', 2345678901234567, 'maria.souza@hotmail.com', (SELECT max(id) FROM carrinho));\n",
      "            COMMIT;\n",
      "            \n",
      "BEGIN;\n",
      "                INSERT INTO carrinho(id) values(null);\n",
      "                INSERT INTO usuarios (nome, cartao, email,cod_carrinho) VALUES ('Carlos Santos', 3456789012345678, 'carlos.santos@yahoo.com', (SELECT max(id) FROM carrinho));\n",
      "            COMMIT;\n",
      "            \n"
     ]
    }
   ],
   "source": [
    "con = mysql.connector.connect(host='localhost',database='ecommerce',user='admin',password='admin')\n",
    "for usuario in lista_usuarios:\n",
    "    insert_usuarios(usuario.get('nome'),usuario.get('cartao'),usuario.get('email'))"
   ]
  },
  {
   "cell_type": "code",
   "execution_count": 14,
   "metadata": {},
   "outputs": [],
   "source": [
    "val =  (nome, cartao, email)\n",
    "sql = \"\"\"SELECT `AUTO_INCREMENT` FROM  INFORMATION_SCHEMA.TABLES WHERE TABLE_SCHEMA = 'ecommerce' AND   TABLE_NAME   = 'carrinho';\"\"\"\n",
    "cursor.execute(sql)\n",
    "idCarrinho = cursor.fetchone()\n",
    "sql = 'INSERT INTO carrinho values (null)'\n"
   ]
  },
  {
   "cell_type": "code",
   "execution_count": 25,
   "metadata": {},
   "outputs": [],
   "source": [
    "sql = \"\"\"SELECT `AUTO_INCREMENT` FROM  INFORMATION_SCHEMA.TABLES WHERE TABLE_SCHEMA = 'ecommerce' AND   TABLE_NAME   = 'carrinho';\"\"\"\n",
    "cursor.execute(sql)\n",
    "idCarrinho = cursor.fetchone()"
   ]
  },
  {
   "cell_type": "code",
   "execution_count": 1,
   "metadata": {},
   "outputs": [
    {
     "name": "stdout",
     "output_type": "stream",
     "text": [
      "BEGIN;INSERT INTO produto (preco, imagemUrl, descricao) VALUES (9.99, 'https://static1.patasdacasa.com.br/articles/6/37/16/@/14887-fotos-de-cachorros-filhotes-com-seus-bri-articles_media_slider_mobile-2.jpg', 'cachorro fofo');COMMIT;\n",
      "BEGIN;INSERT INTO produto (preco, imagemUrl, descricao) VALUES (19.99, 'https://static1.patasdacasa.com.br/articles/6/37/16/@/14941-fotos-de-cachorros-pequenos-precisam-ter-articles_media_slider_mobile-2.jpg', 'cachorro fofuxo');COMMIT;\n",
      "BEGIN;INSERT INTO produto (preco, imagemUrl, descricao) VALUES (29.99, 'https://noticias.buscavoluntaria.com.br/wp-content/uploads/2019/03/kitten-solid-white-cat-motherless-child.jpg', 'gato fofo');COMMIT;\n"
     ]
    }
   ],
   "source": [
    "from lib import insert_produtos\n",
    "lista_produtos= [{'preco':'9.99','imagemUrl':'https://static1.patasdacasa.com.br/articles/6/37/16/@/14887-fotos-de-cachorros-filhotes-com-seus-bri-articles_media_slider_mobile-2.jpg','descricao':'cachorro fofo'}, \n",
    "        {'preco':'19.99','imagemUrl':'https://static1.patasdacasa.com.br/articles/6/37/16/@/14941-fotos-de-cachorros-pequenos-precisam-ter-articles_media_slider_mobile-2.jpg','descricao':'cachorro fofuxo'},\n",
    "        {'preco':'29.99','imagemUrl':'https://noticias.buscavoluntaria.com.br/wp-content/uploads/2019/03/kitten-solid-white-cat-motherless-child.jpg','descricao':'gato fofo'}]\n",
    "\n",
    "for produto in lista_produtos:\n",
    "    insert_produtos(produto.get('preco'),produto.get('imagemUrl'),produto.get('descricao'))\n",
    "\n"
   ]
  },
  {
   "cell_type": "code",
   "execution_count": 1,
   "metadata": {},
   "outputs": [
    {
     "name": "stdout",
     "output_type": "stream",
     "text": [
      "BEGIN;INSERT INTO cep (cep, cidade, estado) VALUES ('12345678', 'São Paulo', 'SP');COMMIT;\n",
      "BEGIN;INSERT INTO cep (cep, cidade, estado) VALUES ('87654321', 'Rio de Janeiro', 'RJ');COMMIT;\n",
      "BEGIN;INSERT INTO cep (cep, cidade, estado) VALUES ('23456789', 'Belo Horizonte', 'MG');COMMIT;\n"
     ]
    }
   ],
   "source": [
    "from lib import insert_ceps\n",
    "lista_ceps= [{'cep':'12345678','cidade':'São Paulo','estado':'SP'}, \n",
    "        {'cep':'87654321','cidade':'Rio de Janeiro','estado':'RJ'},\n",
    "        {'cep':'23456789','cidade':'Belo Horizonte','estado':'MG'}]\n",
    "\n",
    "for ceps in lista_ceps:\n",
    "    insert_ceps(ceps.get('cep'),ceps.get('cidade'),ceps.get('estado'))\n"
   ]
  },
  {
   "cell_type": "code",
   "execution_count": 1,
   "metadata": {},
   "outputs": [],
   "source": [
    "from lib import insert_lista\n",
    "\n",
    "lista_lista= [{'nome':'Ofertas','id':18}, \n",
    "        {'nome':'Alimentos','id':19},\n",
    "        {'nome':'Eletrodomesticos','id':20},\n",
    "        {'nome':'Higiene','id':21},\n",
    "        {'nome':'Livros','id':18}]\n",
    "\n",
    "for lista in lista_lista:\n",
    "    insert_lista(lista.get('nome'),lista.get('id'))\n",
    "\n"
   ]
  },
  {
   "cell_type": "code",
   "execution_count": 2,
   "metadata": {},
   "outputs": [],
   "source": [
    "from lib import insert_produto_no_carrinho\n",
    "lista_produtos_no_carrinho = [\n",
    "    {'prod':18,'user':64,'quant':20},\n",
    "    {'prod':19,'user':64,'quant':20},\n",
    "    {'prod':20,'user':64,'quant':20}\n",
    "]\n",
    "\n",
    "\n",
    "for lista in lista_produtos_no_carrinho:\n",
    "    insert_produto_no_carrinho(lista.get('prod'),lista.get('user'),lista.get('quant'))"
   ]
  },
  {
   "cell_type": "code",
   "execution_count": 1,
   "metadata": {},
   "outputs": [],
   "source": [
    "from lib import insert_venda\n",
    "\n",
    "insert_venda('canguçu',20.10,64)"
   ]
  }
 ],
 "metadata": {
  "kernelspec": {
   "display_name": "Python 3",
   "language": "python",
   "name": "python3"
  },
  "language_info": {
   "codemirror_mode": {
    "name": "ipython",
    "version": 3
   },
   "file_extension": ".py",
   "mimetype": "text/x-python",
   "name": "python",
   "nbconvert_exporter": "python",
   "pygments_lexer": "ipython3",
   "version": "3.9.12"
  },
  "orig_nbformat": 4
 },
 "nbformat": 4,
 "nbformat_minor": 2
}
